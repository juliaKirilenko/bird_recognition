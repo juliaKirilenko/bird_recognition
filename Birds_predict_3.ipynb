{
 "cells": [
  {
   "cell_type": "markdown",
   "metadata": {
    "colab_type": "text",
    "id": "oA79XKe3t-ia"
   },
   "source": [
    "# **Fowl Escapades**\n",
    "#### This notebook shows one of the possible solutions of the 'Fowl Escapades' challenge on Zindi.This solution took 16th place with a Log Loss of 2.18.\n",
    "### **Data used:**\n",
    "#### Test.zip, Train.zip and CSV files (Train.csv, SampleSubmission.csv) from Zindi. All data is available on Zindi: https://zindi.africa/competitions/fowl-escapades/data\n",
    "#### External data was not used.\n",
    "### **Output data:**\n",
    "#### birds_276.csv - features of training dataset\n",
    "#### birds_test_276.csv -  features of test dataset\n",
    "#### model_ens_3_all.h5 - model trained on 100 epochs\n",
    "#### submission_starter_notebook_8.csv - file following the sample submission format with model's predicted probabilities"
   ]
  },
  {
   "cell_type": "markdown",
   "metadata": {
    "colab_type": "text",
    "id": "p6HOd8Q40SVR"
   },
   "source": [
    "### All data should be stored in the folder on path"
   ]
  },
  {
   "cell_type": "code",
   "execution_count": 1,
   "metadata": {
    "colab": {},
    "colab_type": "code",
    "id": "hOf-WH3F0sqS"
   },
   "outputs": [],
   "source": [
    "path = \"Birds/\""
   ]
  },
  {
   "cell_type": "code",
   "execution_count": 2,
   "metadata": {
    "colab": {},
    "colab_type": "code",
    "id": "uVINMQn_BPnG"
   },
   "outputs": [
    {
     "name": "stderr",
     "output_type": "stream",
     "text": [
      "C:\\Users\\user\\Anaconda3\\lib\\site-packages\\tensorflow\\python\\framework\\dtypes.py:526: FutureWarning: Passing (type, 1) or '1type' as a synonym of type is deprecated; in a future version of numpy, it will be understood as (type, (1,)) / '(1,)type'.\n",
      "  _np_qint8 = np.dtype([(\"qint8\", np.int8, 1)])\n",
      "C:\\Users\\user\\Anaconda3\\lib\\site-packages\\tensorflow\\python\\framework\\dtypes.py:527: FutureWarning: Passing (type, 1) or '1type' as a synonym of type is deprecated; in a future version of numpy, it will be understood as (type, (1,)) / '(1,)type'.\n",
      "  _np_quint8 = np.dtype([(\"quint8\", np.uint8, 1)])\n",
      "C:\\Users\\user\\Anaconda3\\lib\\site-packages\\tensorflow\\python\\framework\\dtypes.py:528: FutureWarning: Passing (type, 1) or '1type' as a synonym of type is deprecated; in a future version of numpy, it will be understood as (type, (1,)) / '(1,)type'.\n",
      "  _np_qint16 = np.dtype([(\"qint16\", np.int16, 1)])\n",
      "C:\\Users\\user\\Anaconda3\\lib\\site-packages\\tensorflow\\python\\framework\\dtypes.py:529: FutureWarning: Passing (type, 1) or '1type' as a synonym of type is deprecated; in a future version of numpy, it will be understood as (type, (1,)) / '(1,)type'.\n",
      "  _np_quint16 = np.dtype([(\"quint16\", np.uint16, 1)])\n",
      "C:\\Users\\user\\Anaconda3\\lib\\site-packages\\tensorflow\\python\\framework\\dtypes.py:530: FutureWarning: Passing (type, 1) or '1type' as a synonym of type is deprecated; in a future version of numpy, it will be understood as (type, (1,)) / '(1,)type'.\n",
      "  _np_qint32 = np.dtype([(\"qint32\", np.int32, 1)])\n",
      "C:\\Users\\user\\Anaconda3\\lib\\site-packages\\tensorflow\\python\\framework\\dtypes.py:535: FutureWarning: Passing (type, 1) or '1type' as a synonym of type is deprecated; in a future version of numpy, it will be understood as (type, (1,)) / '(1,)type'.\n",
      "  np_resource = np.dtype([(\"resource\", np.ubyte, 1)])\n"
     ]
    }
   ],
   "source": [
    "import os\n",
    "import pandas as pd\n",
    "import numpy as np\n",
    "import librosa\n",
    "import csv\n",
    "import tensorflow"
   ]
  },
  {
   "cell_type": "code",
   "execution_count": 6,
   "metadata": {
    "colab": {},
    "colab_type": "code",
    "id": "idBUVqHDFBMZ"
   },
   "outputs": [
    {
     "name": "stderr",
     "output_type": "stream",
     "text": [
      "Using TensorFlow backend.\n"
     ]
    }
   ],
   "source": [
    "from sklearn import preprocessing\n",
    "from sklearn.preprocessing import LabelEncoder\n",
    "from keras.utils import np_utils"
   ]
  },
  {
   "cell_type": "code",
   "execution_count": 7,
   "metadata": {
    "colab": {},
    "colab_type": "code",
    "id": "jrDmas_fGCfD"
   },
   "outputs": [],
   "source": [
    "from keras.models import load_model"
   ]
  },
  {
   "cell_type": "code",
   "execution_count": 12,
   "metadata": {},
   "outputs": [],
   "source": [
    "lb = LabelEncoder()"
   ]
  },
  {
   "cell_type": "code",
   "execution_count": 10,
   "metadata": {
    "colab": {},
    "colab_type": "code",
    "id": "IV2iIbZmyLjB"
   },
   "outputs": [],
   "source": [
    "# Load model\n",
    "model = load_model(os.path.join(path,'model_ens_3_all.h5'))\n",
    "# With tensorflow early versions or TypeError: Unexpected keyword argument passed to optimizer:learning_rate\n",
    "# model = load_model(os.path.join(path,'model_ens_3_all.h5'), compile=False)"
   ]
  },
  {
   "cell_type": "code",
   "execution_count": 17,
   "metadata": {
    "colab": {},
    "colab_type": "code",
    "id": "BxF9k9Bs_NZi"
   },
   "outputs": [],
   "source": [
    "# Preparing paths for test data\n",
    "sub = pd.read_csv(os.path.join(path, \"SampleSubmission.csv\"))"
   ]
  },
  {
   "cell_type": "code",
   "execution_count": 13,
   "metadata": {
    "colab": {},
    "colab_type": "code",
    "id": "qDnxnPrS-ox_"
   },
   "outputs": [],
   "source": [
    "# Read test features from csv\n",
    "X_test = np.array(pd.read_csv(os.path.join(path, \"birds_test_276.csv\"), header=None))"
   ]
  },
  {
   "cell_type": "code",
   "execution_count": 14,
   "metadata": {
    "colab": {},
    "colab_type": "code",
    "id": "L5W2Dfi-Tyrh"
   },
   "outputs": [],
   "source": [
    "# Reshape test data\n",
    "X_test = np.array(X_test).reshape(X_test.shape[0], X_test.shape[1], 1)"
   ]
  },
  {
   "cell_type": "code",
   "execution_count": 15,
   "metadata": {
    "colab": {},
    "colab_type": "code",
    "id": "1WP7w4rET5x7"
   },
   "outputs": [],
   "source": [
    "# Predict labels\n",
    "Y_preds = model.predict([X_test[:,:128], X_test[:,128:134], X_test[:,134:276]])"
   ]
  },
  {
   "cell_type": "code",
   "execution_count": 18,
   "metadata": {
    "colab": {},
    "colab_type": "code",
    "id": "1eAiIov3UvdK"
   },
   "outputs": [],
   "source": [
    "# Transform probabilities to sample submission format\n",
    "birds = sub.columns[1:]\n",
    "birdsn = lb.fit_transform(birds)\n",
    "\n",
    "for ind, b in enumerate(birds):\n",
    "  sub[b] = Y_preds[:, birdsn[ind]]\n",
    "\n",
    "cols = ['ID']\n",
    "for b in birds:\n",
    "  cols.append(b)\n",
    "\n",
    "ss = sub[cols]"
   ]
  },
  {
   "cell_type": "code",
   "execution_count": 21,
   "metadata": {
    "colab": {},
    "colab_type": "code",
    "id": "2ZUH2Q7lVyYA"
   },
   "outputs": [],
   "source": [
    "# Write model's predicted probabilities to csv\n",
    "ss.to_csv(os.path.join(path,'submission_starter_notebook_8.csv'), index=False)"
   ]
  },
  {
   "cell_type": "code",
   "execution_count": 22,
   "metadata": {},
   "outputs": [
    {
     "data": {
      "text/html": [
       "<div>\n",
       "<style scoped>\n",
       "    .dataframe tbody tr th:only-of-type {\n",
       "        vertical-align: middle;\n",
       "    }\n",
       "\n",
       "    .dataframe tbody tr th {\n",
       "        vertical-align: top;\n",
       "    }\n",
       "\n",
       "    .dataframe thead th {\n",
       "        text-align: right;\n",
       "    }\n",
       "</style>\n",
       "<table border=\"1\" class=\"dataframe\">\n",
       "  <thead>\n",
       "    <tr style=\"text-align: right;\">\n",
       "      <th></th>\n",
       "      <th>ID</th>\n",
       "      <th>Ring-necked Dove</th>\n",
       "      <th>Black Cuckoo</th>\n",
       "      <th>Red-chested Cuckoo</th>\n",
       "      <th>Fiery-necked Nightjar</th>\n",
       "      <th>Green Wood Hoopoe</th>\n",
       "      <th>Crested Barbet</th>\n",
       "      <th>Cape Batis</th>\n",
       "      <th>Olive Bushshrike</th>\n",
       "      <th>Orange-breasted Bushshrike</th>\n",
       "      <th>...</th>\n",
       "      <th>Karoo Scrub Robin</th>\n",
       "      <th>White-browed Scrub Robin</th>\n",
       "      <th>Cape Robin-Chat</th>\n",
       "      <th>White-browed Robin-Chat</th>\n",
       "      <th>Chorister Robin-Chat</th>\n",
       "      <th>Southern Double-collared Sunbird</th>\n",
       "      <th>White-bellied Sunbird</th>\n",
       "      <th>African Pipit</th>\n",
       "      <th>African Rock Pipit</th>\n",
       "      <th>Cape Bunting</th>\n",
       "    </tr>\n",
       "  </thead>\n",
       "  <tbody>\n",
       "    <tr>\n",
       "      <th>0</th>\n",
       "      <td>019OYB</td>\n",
       "      <td>0.000708</td>\n",
       "      <td>0.016714</td>\n",
       "      <td>0.247111</td>\n",
       "      <td>0.346910</td>\n",
       "      <td>0.001058</td>\n",
       "      <td>0.128644</td>\n",
       "      <td>0.024600</td>\n",
       "      <td>0.012727</td>\n",
       "      <td>0.004202</td>\n",
       "      <td>...</td>\n",
       "      <td>2.253285e-07</td>\n",
       "      <td>0.000033</td>\n",
       "      <td>0.000150</td>\n",
       "      <td>0.006906</td>\n",
       "      <td>0.015438</td>\n",
       "      <td>0.000226</td>\n",
       "      <td>0.000012</td>\n",
       "      <td>0.000208</td>\n",
       "      <td>0.000028</td>\n",
       "      <td>0.000003</td>\n",
       "    </tr>\n",
       "    <tr>\n",
       "      <th>1</th>\n",
       "      <td>01S9OX</td>\n",
       "      <td>0.026457</td>\n",
       "      <td>0.004419</td>\n",
       "      <td>0.000040</td>\n",
       "      <td>0.000165</td>\n",
       "      <td>0.021674</td>\n",
       "      <td>0.005462</td>\n",
       "      <td>0.063080</td>\n",
       "      <td>0.012560</td>\n",
       "      <td>0.004822</td>\n",
       "      <td>...</td>\n",
       "      <td>1.800629e-03</td>\n",
       "      <td>0.003460</td>\n",
       "      <td>0.055549</td>\n",
       "      <td>0.001047</td>\n",
       "      <td>0.004948</td>\n",
       "      <td>0.002835</td>\n",
       "      <td>0.003476</td>\n",
       "      <td>0.029864</td>\n",
       "      <td>0.031814</td>\n",
       "      <td>0.033932</td>\n",
       "    </tr>\n",
       "    <tr>\n",
       "      <th>2</th>\n",
       "      <td>02CS12</td>\n",
       "      <td>0.012210</td>\n",
       "      <td>0.024207</td>\n",
       "      <td>0.001656</td>\n",
       "      <td>0.013690</td>\n",
       "      <td>0.058769</td>\n",
       "      <td>0.001238</td>\n",
       "      <td>0.009604</td>\n",
       "      <td>0.006061</td>\n",
       "      <td>0.022873</td>\n",
       "      <td>...</td>\n",
       "      <td>3.205669e-02</td>\n",
       "      <td>0.037652</td>\n",
       "      <td>0.046786</td>\n",
       "      <td>0.010118</td>\n",
       "      <td>0.004520</td>\n",
       "      <td>0.013174</td>\n",
       "      <td>0.023503</td>\n",
       "      <td>0.031965</td>\n",
       "      <td>0.029357</td>\n",
       "      <td>0.027566</td>\n",
       "    </tr>\n",
       "    <tr>\n",
       "      <th>3</th>\n",
       "      <td>02LM3W</td>\n",
       "      <td>0.001003</td>\n",
       "      <td>0.020951</td>\n",
       "      <td>0.095754</td>\n",
       "      <td>0.042441</td>\n",
       "      <td>0.009901</td>\n",
       "      <td>0.193465</td>\n",
       "      <td>0.039514</td>\n",
       "      <td>0.038403</td>\n",
       "      <td>0.037264</td>\n",
       "      <td>...</td>\n",
       "      <td>8.277588e-06</td>\n",
       "      <td>0.000873</td>\n",
       "      <td>0.001423</td>\n",
       "      <td>0.018892</td>\n",
       "      <td>0.042202</td>\n",
       "      <td>0.000737</td>\n",
       "      <td>0.000012</td>\n",
       "      <td>0.000319</td>\n",
       "      <td>0.000286</td>\n",
       "      <td>0.000176</td>\n",
       "    </tr>\n",
       "    <tr>\n",
       "      <th>4</th>\n",
       "      <td>0C3A2V</td>\n",
       "      <td>0.002065</td>\n",
       "      <td>0.001284</td>\n",
       "      <td>0.000140</td>\n",
       "      <td>0.001608</td>\n",
       "      <td>0.005015</td>\n",
       "      <td>0.003381</td>\n",
       "      <td>0.019214</td>\n",
       "      <td>0.006209</td>\n",
       "      <td>0.000906</td>\n",
       "      <td>...</td>\n",
       "      <td>2.636047e-02</td>\n",
       "      <td>0.011464</td>\n",
       "      <td>0.107128</td>\n",
       "      <td>0.001268</td>\n",
       "      <td>0.037132</td>\n",
       "      <td>0.010854</td>\n",
       "      <td>0.014195</td>\n",
       "      <td>0.041196</td>\n",
       "      <td>0.056977</td>\n",
       "      <td>0.027542</td>\n",
       "    </tr>\n",
       "  </tbody>\n",
       "</table>\n",
       "<p>5 rows × 41 columns</p>\n",
       "</div>"
      ],
      "text/plain": [
       "       ID  Ring-necked Dove  Black Cuckoo  Red-chested Cuckoo  \\\n",
       "0  019OYB          0.000708      0.016714            0.247111   \n",
       "1  01S9OX          0.026457      0.004419            0.000040   \n",
       "2  02CS12          0.012210      0.024207            0.001656   \n",
       "3  02LM3W          0.001003      0.020951            0.095754   \n",
       "4  0C3A2V          0.002065      0.001284            0.000140   \n",
       "\n",
       "   Fiery-necked Nightjar  Green Wood Hoopoe  Crested Barbet  Cape Batis  \\\n",
       "0               0.346910           0.001058        0.128644    0.024600   \n",
       "1               0.000165           0.021674        0.005462    0.063080   \n",
       "2               0.013690           0.058769        0.001238    0.009604   \n",
       "3               0.042441           0.009901        0.193465    0.039514   \n",
       "4               0.001608           0.005015        0.003381    0.019214   \n",
       "\n",
       "   Olive Bushshrike  Orange-breasted Bushshrike      ...       \\\n",
       "0          0.012727                    0.004202      ...        \n",
       "1          0.012560                    0.004822      ...        \n",
       "2          0.006061                    0.022873      ...        \n",
       "3          0.038403                    0.037264      ...        \n",
       "4          0.006209                    0.000906      ...        \n",
       "\n",
       "   Karoo Scrub Robin  White-browed Scrub Robin  Cape Robin-Chat  \\\n",
       "0       2.253285e-07                  0.000033         0.000150   \n",
       "1       1.800629e-03                  0.003460         0.055549   \n",
       "2       3.205669e-02                  0.037652         0.046786   \n",
       "3       8.277588e-06                  0.000873         0.001423   \n",
       "4       2.636047e-02                  0.011464         0.107128   \n",
       "\n",
       "   White-browed Robin-Chat  Chorister Robin-Chat  \\\n",
       "0                 0.006906              0.015438   \n",
       "1                 0.001047              0.004948   \n",
       "2                 0.010118              0.004520   \n",
       "3                 0.018892              0.042202   \n",
       "4                 0.001268              0.037132   \n",
       "\n",
       "   Southern Double-collared Sunbird  White-bellied Sunbird  African Pipit  \\\n",
       "0                          0.000226               0.000012       0.000208   \n",
       "1                          0.002835               0.003476       0.029864   \n",
       "2                          0.013174               0.023503       0.031965   \n",
       "3                          0.000737               0.000012       0.000319   \n",
       "4                          0.010854               0.014195       0.041196   \n",
       "\n",
       "   African Rock Pipit  Cape Bunting  \n",
       "0            0.000028      0.000003  \n",
       "1            0.031814      0.033932  \n",
       "2            0.029357      0.027566  \n",
       "3            0.000286      0.000176  \n",
       "4            0.056977      0.027542  \n",
       "\n",
       "[5 rows x 41 columns]"
      ]
     },
     "execution_count": 22,
     "metadata": {},
     "output_type": "execute_result"
    }
   ],
   "source": [
    "sub8 = pd.read_csv(os.path.join(path, \"submission_starter_notebook_8.csv\"))\n",
    "sub8.head()"
   ]
  }
 ],
 "metadata": {
  "colab": {
   "name": "Birds_train_and_test_final.ipynb",
   "provenance": []
  },
  "kernelspec": {
   "display_name": "Python 3",
   "language": "python",
   "name": "python3"
  },
  "language_info": {
   "codemirror_mode": {
    "name": "ipython",
    "version": 3
   },
   "file_extension": ".py",
   "mimetype": "text/x-python",
   "name": "python",
   "nbconvert_exporter": "python",
   "pygments_lexer": "ipython3",
   "version": "3.7.1"
  }
 },
 "nbformat": 4,
 "nbformat_minor": 1
}
